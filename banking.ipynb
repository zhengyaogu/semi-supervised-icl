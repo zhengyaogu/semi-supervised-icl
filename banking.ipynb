{
 "cells": [
  {
   "cell_type": "code",
   "execution_count": 1,
   "metadata": {},
   "outputs": [
    {
     "name": "stderr",
     "output_type": "stream",
     "text": [
      "/Users/zhengyaogu/miniconda3/envs/in-context-ssl/lib/python3.12/site-packages/tqdm/auto.py:21: TqdmWarning: IProgress not found. Please update jupyter and ipywidgets. See https://ipywidgets.readthedocs.io/en/stable/user_install.html\n",
      "  from .autonotebook import tqdm as notebook_tqdm\n"
     ]
    }
   ],
   "source": [
    "import datasets\n",
    "from datasets import load_dataset, load_from_disk\n",
    "from in_context_ssl.reasoning.template import *\n",
    "import os\n",
    "import openai\n",
    "from openai import OpenAI\n",
    "from tqdm import tqdm\n",
    "import numpy as np\n",
    "from pydantic import BaseModel, Field\n",
    "import json\n",
    "from in_context_ssl.classification.dataset import *\n",
    "import re\n",
    "import pandas as pd\n",
    "import torchmetrics\n",
    "import matplotlib.pyplot as plt\n",
    "from in_context_ssl.classification.constant import *\n",
    "from in_context_ssl.classification.utils import *"
   ]
  },
  {
   "cell_type": "code",
   "execution_count": 2,
   "metadata": {},
   "outputs": [],
   "source": [
    "# set your API key here\n",
    "client = OpenAI()"
   ]
  },
  {
   "cell_type": "markdown",
   "metadata": {},
   "source": [
    "## Proprocessing"
   ]
  },
  {
   "cell_type": "code",
   "execution_count": 9,
   "metadata": {},
   "outputs": [],
   "source": [
    "def process(doc):\n",
    "    return {\n",
    "        \"input\": doc[\"text\"],\n",
    "        \"label\": idx_to_label_banking[doc[\"old_label\"]]\n",
    "    }"
   ]
  },
  {
   "cell_type": "code",
   "execution_count": 14,
   "metadata": {},
   "outputs": [
    {
     "name": "stderr",
     "output_type": "stream",
     "text": [
      "Map: 100%|██████████| 200/200 [00:00<00:00, 13304.90 examples/s]\n",
      "Saving the dataset (1/1 shards): 100%|██████████| 200/200 [00:00<00:00, 91789.12 examples/s] \n"
     ]
    }
   ],
   "source": [
    "ds = load_dataset(\"legacy-datasets/banking77\")[\"test\"]\n",
    "ds = ds.shuffle().select(range(200))\n",
    "ds = ds.rename_column(\"label\", \"old_label\").map(process, remove_columns=[\"text\", \"old_label\"])\n",
    "ds.save_to_disk(\"in_context_ssl/classification/data/banking_test.hf\")"
   ]
  },
  {
   "cell_type": "code",
   "execution_count": 10,
   "metadata": {},
   "outputs": [
    {
     "name": "stderr",
     "output_type": "stream",
     "text": [
      "Map: 100%|██████████| 5000/5000 [00:00<00:00, 43754.84 examples/s]\n",
      "Saving the dataset (1/1 shards): 100%|██████████| 5000/5000 [00:00<00:00, 1991408.22 examples/s]\n"
     ]
    }
   ],
   "source": [
    "ds = load_dataset(\"legacy-datasets/banking77\")[\"train\"]\n",
    "ds = ds.shuffle().select(range(5000))\n",
    "ds = ds.rename_column(\"label\", \"old_label\").map(process, remove_columns=[\"text\", \"old_label\"])\n",
    "ds.save_to_disk(\"in_context_ssl/classification/data/banking_train.hf\")"
   ]
  },
  {
   "cell_type": "code",
   "execution_count": 29,
   "metadata": {},
   "outputs": [
    {
     "name": "stderr",
     "output_type": "stream",
     "text": [
      "Saving the dataset (1/1 shards): 100%|██████████| 5000/5000 [00:00<00:00, 153213.23 examples/s]\n"
     ]
    }
   ],
   "source": [
    "def add_embedding(doc):\n",
    "    return {\n",
    "        \"embedding\": client.embeddings.create(\n",
    "            input = [doc[\"input\"]], model=\"text-embedding-3-large\"\n",
    "        ).data[0].embedding\n",
    "    }\n",
    "\n",
    "ds = load_from_disk(\"in_context_ssl/classification/data/banking_train.hf\")\n",
    "ds = ds.map(add_embedding)\n",
    "\n",
    "ds.save_to_disk(\"in_context_ssl/classification/data/banking_train_emb.hf\")"
   ]
  },
  {
   "cell_type": "markdown",
   "metadata": {},
   "source": [
    "## Inference"
   ]
  },
  {
   "cell_type": "code",
   "execution_count": null,
   "metadata": {},
   "outputs": [],
   "source": [
    "k_total = 100\n",
    "k_gt = 16\n",
    "\n",
    "ds = ClassificationDataset(task=\"banking\")\n",
    "print(ds.get_demonstrations(\n",
    "    #\"in_context_ssl/classification/data/banking_train.hf\", \n",
    "    # uncomment line above to run inference on original data\n",
    "    \"in_context_ssl/classification/data/banking_psl_k={}_verbalized.hf\".format(k_gt),\n",
    "    #runs inference using pseudo-demos\n",
    "    k=k_total-k_gt, k_gt=k_gt, data_selection=\"random\", answer=True,\n",
    "    quantile=0.9\n",
    "))\n",
    "\n",
    "preds = []\n",
    "gold = []\n",
    "\n",
    "for inst in tqdm(ds):\n",
    "    query = inst[\"query\"]\n",
    "    choices = query_openai(client, query, \"gpt-4o\", n=1, structured_output=True, confidence=False, logprobs=True)\n",
    "    \n",
    "    preds.append(choices[0].message.parsed.label)\n",
    "    gold.append(inst[\"label\"])\n",
    "\n",
    "preds = np.array(preds)\n",
    "gold = np.array(gold)\n",
    "acc = (gold == preds).mean().item()"
   ]
  },
  {
   "cell_type": "markdown",
   "metadata": {},
   "source": [
    "## Pseudo-Demonstration Generation\n",
    "### Naive-SemiICL"
   ]
  },
  {
   "cell_type": "code",
   "execution_count": null,
   "metadata": {},
   "outputs": [],
   "source": [
    "ds = ClassificationDataset(task=\"banking\")\n",
    "\n",
    "new_ds_verbalized = []\n",
    "\n",
    "for inst in tqdm(ds.train_iter(\n",
    "    \"in_context_ssl/classification/data/banking_train.hf\",\n",
    "    k=64, answer=True\n",
    ")):\n",
    "    query = inst[\"query\"]\n",
    "    choices = query_openai(client, query, \"gpt-4o-mini\", n=1, structured_output=True, confidence=True, logprobs=True)\n",
    "    \n",
    "    o_verbalized = extract_response_classification(choices, confidence=\"verbalized\")\n",
    "\n",
    "    o_verbalized[\"input\"] = inst[\"input\"]\n",
    "    o_verbalized[\"gold\"] = inst[\"label\"]\n",
    "\n",
    "\n",
    "    new_ds_verbalized.append(o_verbalized)\n",
    "\n",
    "# save the generated dataset\n",
    "datasets.Dataset.from_pandas(pd.DataFrame(new_ds_verbalized)).save_to_disk(\"in_context_ssl/classification/data/{your file name}.hf\")"
   ]
  },
  {
   "cell_type": "markdown",
   "metadata": {},
   "source": [
    "### IterPSD"
   ]
  },
  {
   "cell_type": "code",
   "execution_count": null,
   "metadata": {},
   "outputs": [],
   "source": [
    "k_gt = 16\n",
    "chunk_size = 500\n",
    "demo_size_cap = 1000\n",
    "\n",
    "ds = ClassificationDataset(task=\"banking\")\n",
    "demo_gt = ds.get_demonstrations(\n",
    "    \"in_context_ssl/classification/data/banking_train.hf\", \n",
    "    k=0, k_gt=16, answer=True, data_selection=\"random\", seed=42\n",
    ")\n",
    "demo_psl = \"\"\n",
    "labeled_indices = set()\n",
    "psl_ds = None\n",
    "\n",
    "labeled_ds = None\n",
    "\n",
    "while len(labeled_indices) < len(ds.ds):\n",
    "    idx_curr = ds.get_demonstrations_iterative(ds.ds, chunk_size, labeled_indices, eps=0.5)\n",
    "    #print(\"overlapped idx\", len([i for i in idx_curr if i in labeled_indices]))\n",
    "    ds_curr = ds.ds.select(idx_curr)\n",
    "\n",
    "    new_ds = []\n",
    "    preds = []\n",
    "    gold = []\n",
    "    preds_filtered = []\n",
    "    gold_filtered = []\n",
    "\n",
    "    demo_curr = demo_gt + ds.instance_template.connector + demo_psl if len(demo_psl) > 0 else demo_gt\n",
    "    #print(demo_curr)\n",
    "    for i, inst in tqdm(zip(idx_curr, ds_curr)):\n",
    "        q_d = {\n",
    "            \"demonstrations\": demo_curr,\n",
    "            \"query\": inst[\"input\"],\n",
    "            \"labels\": ds.labels\n",
    "        }\n",
    "        query = ds.template.format(q_d)\n",
    "        query_d = {\n",
    "            \"query\": query,\n",
    "            **inst\n",
    "        }\n",
    "\n",
    "        labeled_indices.add(i)\n",
    "    \n",
    "        choices = query_openai(client, query, \"gpt-4o-mini\", n=1, structured_output=True, confidence=True, logprobs=True)\n",
    "        o = extract_response_classification(choices, confidence=\"verbalized\")\n",
    "        o[\"input\"] = inst[\"input\"]\n",
    "        new_ds.append(o)\n",
    "        preds.append(o[\"label\"])\n",
    "        gold.append(inst[\"label\"])\n",
    "        if o[\"confidence\"] > 0.9:\n",
    "            preds_filtered.append(o[\"label\"])\n",
    "            gold_filtered.append(inst[\"label\"])\n",
    "\n",
    "    \n",
    "    new_ds = datasets.Dataset.from_pandas(pd.DataFrame(new_ds))\n",
    "    if labeled_ds is None:\n",
    "        labeled_ds = new_ds\n",
    "    else:\n",
    "        labeled_ds = datasets.concatenate_datasets([labeled_ds, new_ds])\n",
    "        \n",
    "    new_ds = new_ds.filter(lambda x: x[\"confidence\"] > 0.9)\n",
    "\n",
    "    if psl_ds is None:\n",
    "        psl_ds = new_ds\n",
    "    else:\n",
    "        psl_ds = datasets.concatenate_datasets([psl_ds, new_ds])\n",
    "\n",
    "    def take_only_relevant_att(d):\n",
    "        out_d = {\n",
    "            \"input\": d[\"input\"],\n",
    "        }\n",
    "        out_d[\"label\"] = d[\"label\"]\n",
    "        return out_d\n",
    "    \n",
    "    if len(psl_ds) > demo_size_cap:\n",
    "        sampled_idx = ds.even_sample_by_type(psl_ds, k=demo_size_cap - k_gt, threshold=None, quantile=None, topk=demo_size_cap - k_gt, seed=42)\n",
    "        sampled_demo_ds = psl_ds.select(sampled_idx)\n",
    "        demo_psl = ds.instance_template.connector.join([\n",
    "            ds.instance_template.format(take_only_relevant_att(d)) for d in sampled_demo_ds\n",
    "        ])\n",
    "    else:\n",
    "        demo_psl = ds.instance_template.connector.join([\n",
    "            ds.instance_template.format(take_only_relevant_att(d)) for d in psl_ds\n",
    "        ])\n",
    "    \n",
    "    preds = np.array(preds)\n",
    "    gold = np.array(gold)\n",
    "    print(\"chunk acc: \", (preds == gold).mean().item())\n",
    "    preds_filtered = np.array(preds_filtered)\n",
    "    gold_filtered = np.array(gold_filtered)\n",
    "    print(\"filtered chunk acc: \", (preds_filtered == gold_filtered).mean().item())\n",
    "    print(\"len labeled_indices\", len(labeled_indices))\n",
    "\n",
    "    datasets.Dataset.from_pandas(pd.DataFrame(new_ds)).save_to_disk(\"in_context_ssl/classification/data/{your file name}.hf\")"
   ]
  }
 ],
 "metadata": {
  "kernelspec": {
   "display_name": "in-context-ssl",
   "language": "python",
   "name": "python3"
  },
  "language_info": {
   "codemirror_mode": {
    "name": "ipython",
    "version": 3
   },
   "file_extension": ".py",
   "mimetype": "text/x-python",
   "name": "python",
   "nbconvert_exporter": "python",
   "pygments_lexer": "ipython3",
   "version": "3.12.8"
  }
 },
 "nbformat": 4,
 "nbformat_minor": 2
}

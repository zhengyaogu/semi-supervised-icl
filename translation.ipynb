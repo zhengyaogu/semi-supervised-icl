{
 "cells": [
  {
   "cell_type": "code",
   "execution_count": 1,
   "metadata": {},
   "outputs": [
    {
     "name": "stderr",
     "output_type": "stream",
     "text": [
      "/Users/zhengyaogu/miniconda3/envs/in-context-ssl/lib/python3.12/site-packages/tqdm/auto.py:21: TqdmWarning: IProgress not found. Please update jupyter and ipywidgets. See https://ipywidgets.readthedocs.io/en/stable/user_install.html\n",
      "  from .autonotebook import tqdm as notebook_tqdm\n"
     ]
    }
   ],
   "source": [
    "import datasets\n",
    "from datasets import load_dataset, load_from_disk\n",
    "from in_context_ssl.reasoning.template import *\n",
    "import os\n",
    "import openai\n",
    "from openai import OpenAI\n",
    "from tqdm import tqdm\n",
    "import numpy as np\n",
    "from pydantic import BaseModel, Field\n",
    "import json\n",
    "from in_context_ssl.reasoning.utils import *\n",
    "from in_context_ssl.reasoning.dataset import *\n",
    "import re\n",
    "import pandas as pd\n",
    "from in_context_ssl.reasoning.utils import *\n",
    "import torchmetrics\n",
    "import matplotlib.pyplot as plt"
   ]
  },
  {
   "cell_type": "code",
   "execution_count": 2,
   "metadata": {},
   "outputs": [],
   "source": [
    "# set your API here\n",
    "client = OpenAI()"
   ]
  },
  {
   "cell_type": "markdown",
   "metadata": {},
   "source": [
    "## Preprocessing"
   ]
  },
  {
   "cell_type": "code",
   "execution_count": 29,
   "metadata": {},
   "outputs": [],
   "source": [
    "def create_translation_dataset(target_lang, stage):\n",
    "    split = \"dev\" if stage == \"train\" else \"devtest\"\n",
    "    ds = load_dataset(\"openlanguagedata/flores_plus\")[split]\n",
    "    df  = ds.to_pandas()\n",
    "\n",
    "    def add_embedding(doc):\n",
    "        out_doc = {\n",
    "            \"embedding\": client.embeddings.create(\n",
    "                input=[doc[\"question\"]],\n",
    "                model=\"text-embedding-3-large\"\n",
    "            ).data[0].embedding\n",
    "        }\n",
    "        return out_doc\n",
    "\n",
    "    df_source = df[df[\"iso_639_3\"] == \"eng\"]\n",
    "    df_target = df[df[\"iso_639_3\"] == target_lang]\n",
    "    joined_df = pd.merge(df_source, df_target, on=\"id\", how=\"inner\")[[\n",
    "        \"text_x\", \"text_y\", \"topic_x\"\n",
    "    ]]\n",
    "    joined_df = joined_df.rename(columns={\n",
    "        \"text_x\": \"question\",\n",
    "        \"text_y\": \"answer\",\n",
    "        \"topic_x\": \"group\"\n",
    "    })\n",
    "\n",
    "    ds = datasets.Dataset.from_pandas(joined_df)\n",
    "    ds = ds.map(add_embedding)\n",
    "    ds.save_to_disk(\"in_context_ssl/reasoning/data/flores_{}_{}.hf\".format(target_lang, stage))\n",
    "    return ds\n"
   ]
  },
  {
   "cell_type": "code",
   "execution_count": 33,
   "metadata": {},
   "outputs": [],
   "source": [
    "ds = load_dataset(\"openlanguagedata/flores_plus\")[\"devtest\"]\n",
    "df  = ds.to_pandas()\n",
    "df_source = df[df[\"iso_639_3\"] == \"bem\"] # "
   ]
  },
  {
   "cell_type": "code",
   "execution_count": 37,
   "metadata": {},
   "outputs": [
    {
     "name": "stderr",
     "output_type": "stream",
     "text": [
      "Saving the dataset (1/1 shards): 100%|██████████| 200/200 [00:00<00:00, 3683.71 examples/s]\n"
     ]
    }
   ],
   "source": [
    "target_langs = [\"bem\"]\n",
    "ds = load_from_disk(\"in_context_ssl/reasoning/data/flores_{}_test.hf\".format(lang))\n",
    "ds = ds.shuffle()\n",
    "ds = ds.select(range(200))\n",
    "ds.save_to_disk(\"in_context_ssl/reasoning/data/flores_{}_test_new.hf\".format(lang))"
   ]
  },
  {
   "cell_type": "markdown",
   "metadata": {},
   "source": [
    "## Inference"
   ]
  },
  {
   "cell_type": "code",
   "execution_count": null,
   "metadata": {},
   "outputs": [],
   "source": [
    "k_total = 100\n",
    "k_gt = 16\n",
    "\n",
    "ds = TranslationDatasetBem()\n",
    "print(ds.get_demonstrations(\n",
    "    \"in_context_ssl/reasoning/data/flores_fij_psl_k={}_entropy.hf\".format(k_gt),\n",
    "    k=k_total-k_gt, k_gt=k_gt, \n",
    "    style=\"psl\", answer=True, rationale=False, quantile=0.9, topk=False, seed=42\n",
    "))\n",
    "preds = []\n",
    "gold = []\n",
    "messages = []\n",
    "\n",
    "for inst in tqdm(ds):\n",
    "    choice = query_openai(client, inst[\"query\"], model=\"gpt-4o-mini\", n=1, structured_output=False, confidence=False, logprobs=True)[0]\n",
    "    o = parse_output_translation(\"Bemba\", choice.message.content)\n",
    "    messages.append(choice.message.content)\n",
    "    preds.append(o[\"answer\"])\n",
    "    gold.append(inst[\"answer\"])\n",
    "\n",
    "chrf = torchmetrics.CHRFScore(return_sentence_level_score=True)\n",
    "chrf(preds, gold)\n",
    "score = chrf.compute()[1].mean()"
   ]
  },
  {
   "cell_type": "markdown",
   "metadata": {},
   "source": [
    "## Naive-SemiICL"
   ]
  },
  {
   "cell_type": "code",
   "execution_count": null,
   "metadata": {},
   "outputs": [],
   "source": [
    "preds = []\n",
    "gold = []\n",
    "confidences = []\n",
    "messages = []\n",
    "\n",
    "new_ds_verbalized = []\n",
    "new_ds_entropy = []\n",
    "\n",
    "ds = TranslationDatasetBem()\n",
    "\n",
    "k=16\n",
    "for inst in tqdm(ds.train_iter(\n",
    "    \"in_context_ssl/reasoning/data/flores_fij_train.hf\",\n",
    "    k=k, answer=True, rationale=False, seed=42\n",
    ")):\n",
    "    choices = query_openai(client, inst[\"query\"], n=1, model=\"gpt-4o-mini\", structured_output=False, confidence=True, logprobs=True)\n",
    "\n",
    "    o_verbalized = aggregate(choices, parser=lambda x: parse_output_translation(\"Bemba\", x), confidence=\"verbalized\", rationale=False)\n",
    "    o_entropy = aggregate(choices, parser=lambda x: parse_output_translation(\"Bemba\", x), confidence=\"entropy\", rationale=False)\n",
    "\n",
    "    d_verbalized = {\n",
    "        \"question\": inst[\"question\"],\n",
    "        \"answer\": o_verbalized[\"answer\"],\n",
    "        \"group\": inst[\"group\"],\n",
    "        \"confidence\": o_verbalized[\"confidence\"],\n",
    "    }\n",
    "    d_entropy = dict(d_verbalized)\n",
    "    d_entropy[\"confidence\"] = o_entropy[\"confidence\"]\n",
    "    new_ds_verbalized.append(d_verbalized)\n",
    "    new_ds_entropy.append(d_entropy)\n",
    "\n",
    "datasets.Dataset.from_pandas(pd.DataFrame(\n",
    "    new_ds_verbalized\n",
    ")).save_to_disk(\"in_context_ssl/reasoning/data/flores_fij_psl_k={}_verbalized.hf\".format(k))\n",
    "datasets.Dataset.from_pandas(pd.DataFrame(\n",
    "    new_ds_entropy\n",
    ")).save_to_disk(\"in_context_ssl/reasoning/data/flores_fij_psl_k={}_entropy.hf\".format(k))"
   ]
  }
 ],
 "metadata": {
  "kernelspec": {
   "display_name": "in-context-ssl",
   "language": "python",
   "name": "python3"
  },
  "language_info": {
   "codemirror_mode": {
    "name": "ipython",
    "version": 3
   },
   "file_extension": ".py",
   "mimetype": "text/x-python",
   "name": "python",
   "nbconvert_exporter": "python",
   "pygments_lexer": "ipython3",
   "version": "3.12.8"
  }
 },
 "nbformat": 4,
 "nbformat_minor": 2
}
